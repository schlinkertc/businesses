{
 "cells": [
  {
   "cell_type": "code",
   "execution_count": 24,
   "metadata": {},
   "outputs": [],
   "source": [
    "import plotly.graph_objects as go\n",
    "import pandas as pd\n",
    "import numpy as np\n",
    "from config import Config\n",
    "\n",
    "from application import yelp,parse_business\n",
    "\n",
    "from sqlalchemy import create_engine"
   ]
  },
  {
   "cell_type": "code",
   "execution_count": 25,
   "metadata": {},
   "outputs": [],
   "source": [
    "engine = create_engine(Config.SQLALCHEMY_DATABASE_URI)"
   ]
  },
  {
   "cell_type": "code",
   "execution_count": 26,
   "metadata": {},
   "outputs": [
    {
     "data": {
      "text/plain": [
       "array(['Ridgewood', 'Brooklyn', 'New York', 'East Elmhurst', 'Bronx',\n",
       "       'Aurora', 'Laurelton', 'Astoria', 'Bedford-Stuyvesant', 'Jamaica',\n",
       "       'Staten Island', 'Park Slope', 'Waterbury', 'Rosedale',\n",
       "       'Bridgeport', 'Rockville Centre', 'Hartford', 'Richmond Hill',\n",
       "       'Harlem', 'Crown Heights', 'The Bronx', 'Forest Hills'],\n",
       "      dtype=object)"
      ]
     },
     "execution_count": 26,
     "metadata": {},
     "output_type": "execute_result"
    }
   ],
   "source": [
    "df = pd.read_sql_table('businesses',engine.connect())\n",
    "df['city'].unique()"
   ]
  },
  {
   "cell_type": "code",
   "execution_count": 27,
   "metadata": {},
   "outputs": [
    {
     "data": {
      "text/html": [
       "<div>\n",
       "<style scoped>\n",
       "    .dataframe tbody tr th:only-of-type {\n",
       "        vertical-align: middle;\n",
       "    }\n",
       "\n",
       "    .dataframe tbody tr th {\n",
       "        vertical-align: top;\n",
       "    }\n",
       "\n",
       "    .dataframe thead th {\n",
       "        text-align: right;\n",
       "    }\n",
       "</style>\n",
       "<table border=\"1\" class=\"dataframe\">\n",
       "  <thead>\n",
       "    <tr style=\"text-align: right;\">\n",
       "      <th></th>\n",
       "      <th>id</th>\n",
       "      <th>alias</th>\n",
       "      <th>name</th>\n",
       "      <th>image_url</th>\n",
       "      <th>url</th>\n",
       "      <th>price</th>\n",
       "      <th>phone</th>\n",
       "      <th>display_phone</th>\n",
       "      <th>latitude</th>\n",
       "      <th>longitude</th>\n",
       "      <th>...</th>\n",
       "      <th>address2</th>\n",
       "      <th>address3</th>\n",
       "      <th>city</th>\n",
       "      <th>zip_code</th>\n",
       "      <th>country</th>\n",
       "      <th>state</th>\n",
       "      <th>display_address</th>\n",
       "      <th>categories</th>\n",
       "      <th>pickup</th>\n",
       "      <th>delivery</th>\n",
       "    </tr>\n",
       "  </thead>\n",
       "  <tbody>\n",
       "    <tr>\n",
       "      <th>130</th>\n",
       "      <td>Pd3ZYDqtxHm7rWVZsAr_Bg</td>\n",
       "      <td>lions-den-vegetarian-restaurant-hartford</td>\n",
       "      <td>Lion's Den Vegetarian Restaurant</td>\n",
       "      <td>https://s3-media2.fl.yelpcdn.com/bphoto/CWhZw7...</td>\n",
       "      <td>https://www.yelp.com/biz/lions-den-vegetarian-...</td>\n",
       "      <td>$</td>\n",
       "      <td>+18602410220</td>\n",
       "      <td>(860) 241-0220</td>\n",
       "      <td>41.7971</td>\n",
       "      <td>-72.6634</td>\n",
       "      <td>...</td>\n",
       "      <td>None</td>\n",
       "      <td>None</td>\n",
       "      <td>Hartford</td>\n",
       "      <td>06120</td>\n",
       "      <td>US</td>\n",
       "      <td>CT</td>\n",
       "      <td>3347 Main St Hartford, CT 06120</td>\n",
       "      <td>Vegetarian</td>\n",
       "      <td>0</td>\n",
       "      <td>1</td>\n",
       "    </tr>\n",
       "  </tbody>\n",
       "</table>\n",
       "<p>1 rows × 21 columns</p>\n",
       "</div>"
      ],
      "text/plain": [
       "                         id                                     alias  \\\n",
       "130  Pd3ZYDqtxHm7rWVZsAr_Bg  lions-den-vegetarian-restaurant-hartford   \n",
       "\n",
       "                                 name  \\\n",
       "130  Lion's Den Vegetarian Restaurant   \n",
       "\n",
       "                                             image_url  \\\n",
       "130  https://s3-media2.fl.yelpcdn.com/bphoto/CWhZw7...   \n",
       "\n",
       "                                                   url price         phone  \\\n",
       "130  https://www.yelp.com/biz/lions-den-vegetarian-...     $  +18602410220   \n",
       "\n",
       "      display_phone  latitude  longitude  ... address2 address3      city  \\\n",
       "130  (860) 241-0220   41.7971   -72.6634  ...     None     None  Hartford   \n",
       "\n",
       "    zip_code country state                  display_address  categories  \\\n",
       "130    06120      US    CT  3347 Main St Hartford, CT 06120  Vegetarian   \n",
       "\n",
       "    pickup  delivery  \n",
       "130      0         1  \n",
       "\n",
       "[1 rows x 21 columns]"
      ]
     },
     "execution_count": 27,
     "metadata": {},
     "output_type": "execute_result"
    }
   ],
   "source": [
    "df[df['city']=='Hartford']"
   ]
  },
  {
   "cell_type": "code",
   "execution_count": 3,
   "metadata": {},
   "outputs": [],
   "source": [
    "def yelp_details(yelp_id):\n",
    "    api_key = Config.yelp_api_key\n",
    "    url = f'https://api.yelp.com/v3/businesses/{yelp_id}'\n",
    "    headers = {'Authorization': 'Bearer {}'.format(api_key)}\n",
    "    \n",
    "    response = requests.get(url, headers=headers)\n",
    "    \n",
    "    results = json.loads(response.content)\n",
    "    \n",
    "    return results"
   ]
  },
  {
   "cell_type": "code",
   "execution_count": 23,
   "metadata": {},
   "outputs": [
    {
     "data": {
      "text/plain": [
       "[{'id': 'Pd3ZYDqtxHm7rWVZsAr_Bg',\n",
       "  'alias': 'lions-den-vegetarian-restaurant-hartford',\n",
       "  'name': \"Lion's Den Vegetarian Restaurant\",\n",
       "  'image_url': 'https://s3-media2.fl.yelpcdn.com/bphoto/CWhZw77GqeljM_dO92qhxQ/o.jpg',\n",
       "  'is_closed': False,\n",
       "  'url': 'https://www.yelp.com/biz/lions-den-vegetarian-restaurant-hartford?adjust_creative=bTbNM_4fpBA2r1xO8IveLw&utm_campaign=yelp_api_v3&utm_medium=api_v3_business_search&utm_source=bTbNM_4fpBA2r1xO8IveLw',\n",
       "  'review_count': 20,\n",
       "  'categories': [{'alias': 'vegetarian', 'title': 'Vegetarian'}],\n",
       "  'rating': 4.5,\n",
       "  'coordinates': {'latitude': 41.79713, 'longitude': -72.66339},\n",
       "  'transactions': ['delivery'],\n",
       "  'price': '$',\n",
       "  'location': {'address1': '3347 Main St',\n",
       "   'address2': None,\n",
       "   'address3': None,\n",
       "   'city': 'Hartford',\n",
       "   'zip_code': '06120',\n",
       "   'country': 'US',\n",
       "   'state': 'CT',\n",
       "   'display_address': ['3347 Main St', 'Hartford, CT 06120']},\n",
       "  'phone': '+18602410220',\n",
       "  'display_phone': '(860) 241-0220',\n",
       "  'distance': 4520.1107729931055}]"
      ]
     },
     "execution_count": 23,
     "metadata": {},
     "output_type": "execute_result"
    }
   ],
   "source": [
    "yelp('vegetarian','hartford')['businesses']"
   ]
  },
  {
   "cell_type": "code",
   "execution_count": 15,
   "metadata": {},
   "outputs": [],
   "source": [
    "art_of_yum = yelp('the art of yum','waterbury')"
   ]
  },
  {
   "cell_type": "code",
   "execution_count": 16,
   "metadata": {},
   "outputs": [],
   "source": [
    "art_of_yum_parsed = parse_business(art_of_yum['businesses'][0])"
   ]
  },
  {
   "cell_type": "code",
   "execution_count": 17,
   "metadata": {},
   "outputs": [
    {
     "data": {
      "text/plain": [
       "{'id': 'kNytOGW2-5Ybj1RwmnNz8w',\n",
       " 'alias': 'the-art-of-yum-waterbury',\n",
       " 'name': 'The Art of Yum',\n",
       " 'image_url': 'https://s3-media4.fl.yelpcdn.com/bphoto/ModnP5wBErZMYibZ9QndRw/o.jpg',\n",
       " 'url': 'https://www.yelp.com/biz/the-art-of-yum-waterbury?adjust_creative=bTbNM_4fpBA2r1xO8IveLw&utm_campaign=yelp_api_v3&utm_medium=api_v3_business_search&utm_source=bTbNM_4fpBA2r1xO8IveLw',\n",
       " 'phone': '+12035274044',\n",
       " 'display_phone': '(203) 527-4044',\n",
       " 'latitude': 41.5540595,\n",
       " 'longitude': -73.0418114,\n",
       " 'address1': '146 Grand St',\n",
       " 'address2': None,\n",
       " 'address3': '',\n",
       " 'city': 'Waterbury',\n",
       " 'zip_code': '06702',\n",
       " 'country': 'US',\n",
       " 'state': 'CT',\n",
       " 'display_address': '146 Grand St Waterbury, CT 06702',\n",
       " 'categories': 'Caterers, Food Delivery Services',\n",
       " 'pickup': True,\n",
       " 'delivery': True}"
      ]
     },
     "execution_count": 17,
     "metadata": {},
     "output_type": "execute_result"
    }
   ],
   "source": [
    "art_of_yum_parsed"
   ]
  },
  {
   "cell_type": "code",
   "execution_count": null,
   "metadata": {},
   "outputs": [],
   "source": []
  }
 ],
 "metadata": {
  "kernelspec": {
   "display_name": "Python 3",
   "language": "python",
   "name": "python3"
  },
  "language_info": {
   "codemirror_mode": {
    "name": "ipython",
    "version": 3
   },
   "file_extension": ".py",
   "mimetype": "text/x-python",
   "name": "python",
   "nbconvert_exporter": "python",
   "pygments_lexer": "ipython3",
   "version": "3.7.6"
  }
 },
 "nbformat": 4,
 "nbformat_minor": 4
}
